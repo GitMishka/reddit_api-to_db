{
  "nbformat": 4,
  "nbformat_minor": 0,
  "metadata": {
    "colab": {
      "provenance": [],
      "authorship_tag": "ABX9TyOX7zevUUnRk3jULHbNgmYB",
      "include_colab_link": true
    },
    "kernelspec": {
      "name": "python3",
      "display_name": "Python 3"
    },
    "language_info": {
      "name": "python"
    }
  },
  "cells": [
    {
      "cell_type": "markdown",
      "metadata": {
        "id": "view-in-github",
        "colab_type": "text"
      },
      "source": [
        "<a href=\"https://colab.research.google.com/github/GitMishka/2015-2017_amzn_aaple_tsla_twtr_allocation_pract/blob/master/Reddit_1.ipynb\" target=\"_parent\"><img src=\"https://colab.research.google.com/assets/colab-badge.svg\" alt=\"Open In Colab\"/></a>"
      ]
    },
    {
      "cell_type": "code",
      "execution_count": null,
      "metadata": {
        "id": "0M2qyduGfakk",
        "colab": {
          "base_uri": "https://localhost:8080/"
        },
        "outputId": "adc2f7f9-7788-4dda-ac5e-554812d4049e"
      },
      "outputs": [
        {
          "output_type": "stream",
          "name": "stdout",
          "text": [
            "Looking in indexes: https://pypi.org/simple, https://us-python.pkg.dev/colab-wheels/public/simple/\n",
            "Requirement already satisfied: praw in /usr/local/lib/python3.8/dist-packages (7.7.0)\n",
            "Requirement already satisfied: prawcore<3,>=2.1 in /usr/local/lib/python3.8/dist-packages (from praw) (2.3.0)\n",
            "Requirement already satisfied: update-checker>=0.18 in /usr/local/lib/python3.8/dist-packages (from praw) (0.18.0)\n",
            "Requirement already satisfied: websocket-client>=0.54.0 in /usr/local/lib/python3.8/dist-packages (from praw) (1.5.1)\n",
            "Requirement already satisfied: requests<3.0,>=2.6.0 in /usr/local/lib/python3.8/dist-packages (from prawcore<3,>=2.1->praw) (2.25.1)\n",
            "Requirement already satisfied: certifi>=2017.4.17 in /usr/local/lib/python3.8/dist-packages (from requests<3.0,>=2.6.0->prawcore<3,>=2.1->praw) (2022.12.7)\n",
            "Requirement already satisfied: urllib3<1.27,>=1.21.1 in /usr/local/lib/python3.8/dist-packages (from requests<3.0,>=2.6.0->prawcore<3,>=2.1->praw) (1.26.14)\n",
            "Requirement already satisfied: idna<3,>=2.5 in /usr/local/lib/python3.8/dist-packages (from requests<3.0,>=2.6.0->prawcore<3,>=2.1->praw) (2.10)\n",
            "Requirement already satisfied: chardet<5,>=3.0.2 in /usr/local/lib/python3.8/dist-packages (from requests<3.0,>=2.6.0->prawcore<3,>=2.1->praw) (4.0.0)\n"
          ]
        }
      ],
      "source": [
        "!pip install praw\n",
        "import praw\n",
        "from google.colab import drive\n",
        "import pandas as pd\n",
        "import datetime\n",
        "import psycopg2 as ps\n"
      ]
    },
    {
      "cell_type": "code",
      "source": [
        "def connect_to_db(host_name, dbname, port, username, password):\n",
        "    try:\n",
        "        conn = ps.connect(host=host_name, database=dbname, user=username, password=password, port=port)\n",
        "\n",
        "    except ps.OperationalError as e:\n",
        "        raise e\n",
        "    else:\n",
        "        print('Connected!')\n",
        "        return conn"
      ],
      "metadata": {
        "id": "0VTu_GwWUVbJ"
      },
      "execution_count": null,
      "outputs": []
    },
    {
      "cell_type": "code",
      "source": [
        "# #database credentials\n",
        "# host_name = 'my-db1.cwc1bi2tp4j7.us-east-2.rds.amazonaws.com'\n",
        "# dbname = 'initial_db1'\n",
        "# port = '5432'\n",
        "# username = 'postgres' \n",
        "# password = 'Manonthemoon123'\n",
        "# conn = None\n",
        "\n",
        "# #establish a connection to db\n",
        "# conn = connect_to_db(host_name, dbname, port, username, password)\n",
        "# curr = conn.cursor()\n"
      ],
      "metadata": {
        "id": "w9ixrGttTmJ_"
      },
      "execution_count": null,
      "outputs": []
    },
    {
      "cell_type": "code",
      "source": [
        "user_agent = \"Searchbot_01\"\n",
        "reddit = praw.Reddit(username=\"Searchbot_01\",\n",
        "                     password =\"aaaa1111\",\n",
        "                     client_id=\"Ai32qfXNqvGuMEvHFFMlAw\",\n",
        "                     client_secret=\"IG5XKjyUGkcG2cgXfBSwVvalMTxFRg\",\n",
        "                     user_agent=user_agent)\n",
        "\n",
        "subreddit_name = \"watchexchange\"\n",
        "subreddit = reddit.subreddit(subreddit_name)\n",
        "#print(subreddit.display_name)\n",
        "\n",
        "\n",
        "df = pd.DataFrame() # creating dataframe for displaying scraped data\n",
        "\n",
        "# creating lists for storing scraped data\n",
        "title=[]\n",
        "upvotes=[]\n",
        "post_id=[]\n",
        "time_created = []\n",
        "comments = []\n",
        "url= []\n",
        "#author = []\n",
        "price = ['USD', 'PRICE','$']\n",
        "upvote_ratio = []"
      ],
      "metadata": {
        "id": "kXgj-ajJjQXP"
      },
      "execution_count": null,
      "outputs": []
    },
    {
      "cell_type": "code",
      "source": [
        "for submission in subreddit.top(limit=10):\n",
        "    title.append(submission.title)\n",
        "    upvotes.append(submission.score) #upvotes\n",
        "    post_id.append(submission.id)\n",
        "    #author.append(submission.author)\n",
        "    time_created.append(datetime.datetime.utcfromtimestamp(submission.created))\n",
        "    upvote_ratio.append(submission.upvote_ratio)"
      ],
      "metadata": {
        "colab": {
          "base_uri": "https://localhost:8080/"
        },
        "id": "oi0haoMhjN1y",
        "outputId": "cb9c8dff-f21a-4c0a-9e2c-d137418fcf4f"
      },
      "execution_count": null,
      "outputs": [
        {
          "output_type": "stream",
          "name": "stderr",
          "text": [
            "WARNING:praw:It appears that you are using PRAW in an asynchronous environment.\n",
            "It is strongly recommended to use Async PRAW: https://asyncpraw.readthedocs.io.\n",
            "See https://praw.readthedocs.io/en/latest/getting_started/multiple_instances.html#discord-bots-and-asynchronous-environments for more info.\n",
            "\n"
          ]
        }
      ]
    },
    {
      "cell_type": "code",
      "source": [
        "df['post_id'] = post_id\n",
        "df['title'] = title\n",
        "df['upvotes'] = upvotes #upvotes\n",
        "df['time_created'] = time_created\n",
        "#df['author'] = author\n",
        "df['upvote_ratio'] = upvote_ratio"
      ],
      "metadata": {
        "id": "iX4lZ-kKjKV1"
      },
      "execution_count": null,
      "outputs": []
    },
    {
      "cell_type": "code",
      "source": [
        "#df.set_index('post_id', inplace=True)\n",
        "print(df.shape)\n",
        "#df.head(10)\n",
        "#print(df)\n",
        "print(df.columns)"
      ],
      "metadata": {
        "id": "7zf3E6uKjGOR",
        "colab": {
          "base_uri": "https://localhost:8080/"
        },
        "outputId": "d142855e-0db8-44e0-c600-1633e74d5997"
      },
      "execution_count": null,
      "outputs": [
        {
          "output_type": "stream",
          "name": "stdout",
          "text": [
            "(10, 5)\n",
            "Index(['post_id', 'title', 'upvotes', 'time_created', 'upvote_ratio'], dtype='object')\n"
          ]
        }
      ]
    },
    {
      "cell_type": "code",
      "source": [
        "try:\n",
        "  df.to_csv('df1.csv')\n",
        "  print('Success')\n",
        "except:\n",
        "  print('Failed')"
      ],
      "metadata": {
        "colab": {
          "base_uri": "https://localhost:8080/"
        },
        "id": "JS-xm7tqh7xJ",
        "outputId": "2fb2c4e5-dde2-4228-accb-eea05b043b20"
      },
      "execution_count": null,
      "outputs": [
        {
          "output_type": "stream",
          "name": "stdout",
          "text": [
            "Success\n"
          ]
        }
      ]
    },
    {
      "cell_type": "code",
      "source": [
        "def create_table(curr):\n",
        "    create_table_command = (\"\"\"CREATE TABLE IF NOT EXISTS watch_exchange (\n",
        "                    post_id VARCHAR(10) PRIMARY KEY,\n",
        "                    title VARCHAR(255),\n",
        "                    upvotes INTEGER NOT NULL,\n",
        "                    time_created DATE NOT NULL DEFAULT CURRENT_DATE,\n",
        "                \n",
        "                    upvote_ratio decimal NOT NULL           \n",
        "            )\"\"\")\n",
        "    curr.execute(create_table_command)\n",
        "\n",
        "def insert_into_table(curr, post_id, title, upvotes, time_created, upvote_ratio):\n",
        "  insert_into_exchange = (\"\"\"INSERT INTO watch_exchange (post_id, title,  upvotes, time_created,\n",
        "                         upvote_ratio) \n",
        "                        VALUES (%s,%s,%s,%s,%s);\"\"\")\n",
        "  row_to_insert = (post_id, title,  upvotes, time_created,  upvote_ratio)\n",
        "  curr.execute(insert_into_exchange, row_to_insert)\n",
        "\n",
        "def update_row(curr,title,post_id,upvotes,time_created,upvote_ratio):\n",
        "  query = (\"\"\"UPDATE watch_exchange SET title = %s, upvotes = %s, time_created = %s,  upvote_ratio = %s where post_id = %s;\"\"\")\n",
        "  vars_to_update = (title,upvotes,time_created,upvote_ratio, post_id)\n",
        "  curr.execute(query, vars_to_update)\n",
        "  \n",
        "def check_if_post_exists(curr, post_id):\n",
        "  query = (\"\"\"SELECT post_id FROM watch_exchange where post_id = %s\"\"\")\n",
        "  curr.execute(query, (post_id,))\n",
        "  return curr.fetchone() is not None\n",
        "\n",
        "def truncate_table(curr):\n",
        "    truncate_table = (\"\"\"TRUNCATE TABLE watch_exchange\"\"\")\n",
        "\n",
        "    curr.execute(truncate_table)\n",
        "def append_from_df_to_db(curr,df):\n",
        "    for i, row in df.iterrows():\n",
        "        insert_into_table(curr,row['post_id'], row['title'],  row['upvotes'], row['time_created']\n",
        "                          , row['upvote_ratio'])\n",
        "        \n",
        "def update_db(curr,df):\n",
        "  tmp_df = pd.DataFrame(columns = ['post_id', 'title', 'upvotes', 'time_created',  'upvote_ratio'])\n",
        "  for i, row in df.iterrows():\n",
        "    if check_if_post_exists(curr, row['post_id']):\n",
        "      update_row(curr,row['post_id'], row['title'],row['upvotes'],row['time_created'],row['upvote_ratio'])\n",
        "    else:\n",
        "      tmp_df = tmp_df.append(row)\n",
        "  return tmp_df"
      ],
      "metadata": {
        "id": "Uco7Bqtn5gdw"
      },
      "execution_count": null,
      "outputs": []
    },
    {
      "cell_type": "code",
      "source": [
        "#database credentials\n",
        "host_name = 'my-db1.cwc1bi2tp4j7.us-east-2.rds.amazonaws.com'\n",
        "dbname = 'initial_db1'\n",
        "port = '5432'\n",
        "username = 'postgres' \n",
        "password = 'Manonthemoon123'\n",
        "conn = None\n",
        "\n",
        "#establish a connection to db\n",
        "conn = connect_to_db(host_name, dbname, port, username, password)\n",
        "curr = conn.cursor()"
      ],
      "metadata": {
        "colab": {
          "base_uri": "https://localhost:8080/"
        },
        "id": "aGvfkMG40FXe",
        "outputId": "668893a5-f147-471e-b625-0e9b4e12b562"
      },
      "execution_count": null,
      "outputs": [
        {
          "output_type": "stream",
          "name": "stdout",
          "text": [
            "Connected!\n"
          ]
        }
      ]
    },
    {
      "cell_type": "code",
      "source": [
        "create_table(curr)\n",
        "conn.commit()"
      ],
      "metadata": {
        "id": "sGHI-B-T5jkM"
      },
      "execution_count": null,
      "outputs": []
    },
    {
      "cell_type": "code",
      "source": [
        "new_post_df = update_db(curr,df)\n",
        "conn.commit()"
      ],
      "metadata": {
        "id": "tT40HGsgfkcW"
      },
      "execution_count": null,
      "outputs": []
    },
    {
      "cell_type": "code",
      "source": [
        "append_from_df_to_db(curr, new_post_df)\n",
        "conn.commit()"
      ],
      "metadata": {
        "id": "eKHqNKpdzcpt"
      },
      "execution_count": null,
      "outputs": []
    },
    {
      "cell_type": "code",
      "source": [
        "curr.execute(\"SELECT * FROM watch_exchange\")\n",
        "print(curr.fetchall())"
      ],
      "metadata": {
        "id": "l1KVIYuKfr8K",
        "colab": {
          "base_uri": "https://localhost:8080/"
        },
        "outputId": "de1a105f-3056-4cd5-ed75-4a2c472e8eda"
      },
      "execution_count": null,
      "outputs": [
        {
          "output_type": "stream",
          "name": "stdout",
          "text": [
            "[('11es1qh', '[GIVEAWAY] Win a Casio Mini-Collection by Simply Upvoting and Commenting!', 15695, datetime.date(2023, 3, 1), Decimal('0.87')), ('ztz3nj', '[GIVEAWAY] Win a Watch Roll of your by simply upvoting and commenting!', 15411, datetime.date(2022, 12, 24), Decimal('0.83')), ('i2zk7s', \"[GIVEAWAY] Unworn Retro Casio - Will match upvotes/donations to Parkinson's Foundation\", 3084, datetime.date(2020, 8, 3), Decimal('0.99')), ('l52wyo', '[WTS] Custom 40mm build with laser treated titanium Great Wave Off Kanagawa Dial', 1676, datetime.date(2021, 1, 26), Decimal('0.99')), ('w7dwic', '[WTS] Complete TT Sub - 1999 - Rare Swiss Only Dial, Box, and Papers, Extras -Unpolished- Discounting price with each upvote.', 1622, datetime.date(2022, 7, 25), Decimal('0.95')), ('fl9z9g', '[WTS] Charmin + Purell + Rolex Oyster Perpetual 114200 34mm Grape Dial Full Set OP34', 1554, datetime.date(2020, 3, 19), Decimal('0.95')), ('gmy1lj', '[WTS] Rolex Yacht-Master, Ref. 16622 with A serial', 1468, datetime.date(2020, 5, 19), Decimal('0.94')), ('igf0y3', '[WTS] Sinn U1 on rubber strap | $1550', 1453, datetime.date(2020, 8, 25), Decimal('0.96')), ('bkckao', '[WTT] 1998 Porsche Boxster for Rolex 1680 or 5513 Submariner', 1429, datetime.date(2019, 5, 3), Decimal('0.98')), ('uitnwu', '[WTS] \"show me Paul Allen\\'s Tudor\" Tudor Black Bay S&G 79833MN Rootbeer - $4699', 1276, datetime.date(2022, 5, 5), Decimal('0.98'))]\n"
          ]
        }
      ]
    },
    {
      "cell_type": "markdown",
      "source": [],
      "metadata": {
        "id": "-37wypFhfrsO"
      }
    },
    {
      "cell_type": "code",
      "source": [
        "#insert_into_table(curr,row['title'],row['post_id'],row['upvote',row['time_created'],row['author'],row['upvote_ratio'])"
      ],
      "metadata": {
        "id": "UnDOisbo3rWU"
      },
      "execution_count": null,
      "outputs": []
    },
    {
      "cell_type": "markdown",
      "source": [
        "# New Section"
      ],
      "metadata": {
        "id": "t-XCTyzuymaS"
      }
    }
  ]
}