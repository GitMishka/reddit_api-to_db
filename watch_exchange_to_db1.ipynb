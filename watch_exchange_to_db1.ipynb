{
  "nbformat": 4,
  "nbformat_minor": 0,
  "metadata": {
    "colab": {
      "provenance": [],
      "authorship_tag": "ABX9TyMlWjQmfFnJqkAYfPpIX4Kx",
      "include_colab_link": true
    },
    "kernelspec": {
      "name": "python3",
      "display_name": "Python 3"
    },
    "language_info": {
      "name": "python"
    }
  },
  "cells": [
    {
      "cell_type": "markdown",
      "metadata": {
        "id": "view-in-github",
        "colab_type": "text"
      },
      "source": [
        "<a href=\"https://colab.research.google.com/github/GitMishka/reddit_api-to_db/blob/master/watch_exchange_to_db1.ipynb\" target=\"_parent\"><img src=\"https://colab.research.google.com/assets/colab-badge.svg\" alt=\"Open In Colab\"/></a>"
      ]
    },
    {
      "cell_type": "code",
      "execution_count": 193,
      "metadata": {
        "id": "0M2qyduGfakk",
        "colab": {
          "base_uri": "https://localhost:8080/"
        },
        "outputId": "d63dd2ca-c8dd-4f09-ce65-7bb01ad7ee9b"
      },
      "outputs": [
        {
          "output_type": "stream",
          "name": "stdout",
          "text": [
            "Looking in indexes: https://pypi.org/simple, https://us-python.pkg.dev/colab-wheels/public/simple/\n",
            "Requirement already satisfied: praw in /usr/local/lib/python3.8/dist-packages (7.7.0)\n",
            "Requirement already satisfied: update-checker>=0.18 in /usr/local/lib/python3.8/dist-packages (from praw) (0.18.0)\n",
            "Requirement already satisfied: websocket-client>=0.54.0 in /usr/local/lib/python3.8/dist-packages (from praw) (1.5.1)\n",
            "Requirement already satisfied: prawcore<3,>=2.1 in /usr/local/lib/python3.8/dist-packages (from praw) (2.3.0)\n",
            "Requirement already satisfied: requests<3.0,>=2.6.0 in /usr/local/lib/python3.8/dist-packages (from prawcore<3,>=2.1->praw) (2.25.1)\n",
            "Requirement already satisfied: certifi>=2017.4.17 in /usr/local/lib/python3.8/dist-packages (from requests<3.0,>=2.6.0->prawcore<3,>=2.1->praw) (2022.12.7)\n",
            "Requirement already satisfied: urllib3<1.27,>=1.21.1 in /usr/local/lib/python3.8/dist-packages (from requests<3.0,>=2.6.0->prawcore<3,>=2.1->praw) (1.26.14)\n",
            "Requirement already satisfied: chardet<5,>=3.0.2 in /usr/local/lib/python3.8/dist-packages (from requests<3.0,>=2.6.0->prawcore<3,>=2.1->praw) (4.0.0)\n",
            "Requirement already satisfied: idna<3,>=2.5 in /usr/local/lib/python3.8/dist-packages (from requests<3.0,>=2.6.0->prawcore<3,>=2.1->praw) (2.10)\n"
          ]
        }
      ],
      "source": [
        "!pip install praw\n",
        "import praw\n",
        "from google.colab import drive\n",
        "import pandas as pd\n",
        "import datetime\n",
        "import psycopg2 as ps\n"
      ]
    },
    {
      "cell_type": "code",
      "source": [
        "def connect_to_db(host_name, dbname, port, username, password):\n",
        "    try:\n",
        "        conn = ps.connect(host=host_name, database=dbname, user=username, password=password, port=port)\n",
        "\n",
        "    except ps.OperationalError as e:\n",
        "        raise e\n",
        "    else:\n",
        "        print('Connected!')\n",
        "        return conn"
      ],
      "metadata": {
        "id": "0VTu_GwWUVbJ"
      },
      "execution_count": 194,
      "outputs": []
    },
    {
      "cell_type": "code",
      "source": [
        "# #database credentials\n",
        "# host_name = 'my-db1.cwc1bi2tp4j7.us-east-2.rds.amazonaws.com'\n",
        "# dbname = 'initial_db1'\n",
        "# port = '5432'\n",
        "# username = 'postgres' \n",
        "# password = 'Manonthemoon123'\n",
        "# conn = None\n",
        "\n",
        "# #establish a connection to db\n",
        "# conn = connect_to_db(host_name, dbname, port, username, password)\n",
        "# curr = conn.cursor()\n"
      ],
      "metadata": {
        "id": "w9ixrGttTmJ_"
      },
      "execution_count": 195,
      "outputs": []
    },
    {
      "cell_type": "code",
      "source": [
        "\n",
        "user_agent = \"Searchbot_01\"\n",
        "reddit = praw.Reddit(username=\"Searchbot_01\",\n",
        "                     password =\"aaaa1111\",\n",
        "                     client_id=\"Ai32qfXNqvGuMEvHFFMlAw\",\n",
        "                     client_secret=\"IG5XKjyUGkcG2cgXfBSwVvalMTxFRg\",\n",
        "                     user_agent=user_agent)\n",
        "\n",
        "subreddit_name = \"watchexchange\"\n",
        "subreddit = reddit.subreddit(subreddit_name)\n",
        "#print(subreddit.display_name)\n",
        "\n",
        "\n",
        "df = pd.DataFrame() # creating dataframe for displaying scraped data\n",
        "\n",
        "# creating lists for storing scraped data\n",
        "title=[]\n",
        "upvotes=[]\n",
        "post_id=[]\n",
        "time_created = []\n",
        "#comments = []\n",
        "url= []\n",
        "comments = []\n",
        "#price = ['USD', 'PRICE','$']\n",
        "upvote_ratio = []"
      ],
      "metadata": {
        "id": "kXgj-ajJjQXP"
      },
      "execution_count": 196,
      "outputs": []
    },
    {
      "cell_type": "code",
      "source": [
        "for submission in subreddit.new(limit=10):\n",
        "    title.append(submission.title)\n",
        "    upvotes.append(submission.score) #upvotes\n",
        "    post_id.append(submission.id)\n",
        "    url.append(submission.url)\n",
        "    time_created.append(datetime.datetime.utcfromtimestamp(submission.created))\n",
        "    upvote_ratio.append(submission.upvote_ratio)"
      ],
      "metadata": {
        "colab": {
          "base_uri": "https://localhost:8080/"
        },
        "id": "oi0haoMhjN1y",
        "outputId": "6b9f1386-efa3-4487-e575-0fdd6ef7a105"
      },
      "execution_count": 197,
      "outputs": [
        {
          "output_type": "stream",
          "name": "stderr",
          "text": [
            "WARNING:praw:It appears that you are using PRAW in an asynchronous environment.\n",
            "It is strongly recommended to use Async PRAW: https://asyncpraw.readthedocs.io.\n",
            "See https://praw.readthedocs.io/en/latest/getting_started/multiple_instances.html#discord-bots-and-asynchronous-environments for more info.\n",
            "\n"
          ]
        }
      ]
    },
    {
      "cell_type": "code",
      "source": [
        "df['post_id'] = post_id\n",
        "df['title'] = title\n",
        "df['upvotes'] = upvotes #upvotes\n",
        "df['time_created'] = time_created\n",
        "df['url'] = url\n",
        "df['upvote_ratio'] = upvote_ratio"
      ],
      "metadata": {
        "id": "iX4lZ-kKjKV1"
      },
      "execution_count": 198,
      "outputs": []
    },
    {
      "cell_type": "code",
      "source": [
        "#df.set_index('post_id', inplace=True)\n",
        "print(df.shape)\n",
        "df.head(10)\n",
        "print(df)\n",
        "print(df.columns)"
      ],
      "metadata": {
        "id": "7zf3E6uKjGOR",
        "colab": {
          "base_uri": "https://localhost:8080/"
        },
        "outputId": "56585339-d7a5-4de8-d1f6-f2ca6be9d124"
      },
      "execution_count": 199,
      "outputs": [
        {
          "output_type": "stream",
          "name": "stdout",
          "text": [
            "(10, 6)\n",
            "   post_id                                              title  upvotes  \\\n",
            "0  11jkfdi  [WTS] Forstner flat link bracelet (reserved fo...        1   \n",
            "1  11jk9pp  [WTS/WTT] Seiko 7548-7000 Quartz Diver with ra...        1   \n",
            "2  11jk5yl                       [WTS] Rolex Oysterdate 6694!        1   \n",
            "3  11jk5gi  [WTS] STUNNING Rolex Datejust 16233 w/RARE bla...        2   \n",
            "4  11jk572  [WTS] Omega Seamaster 300 Ceramic Case w/titan...        2   \n",
            "5  11jk1ab              [WTS] Wolf Heritage 5 Piece Watch Box        2   \n",
            "6  11jjw4d  [WTS] Omega Seamaster 300 Chrome Dial Ref:210....        3   \n",
            "7  11jjvt7                    [WTS/WTT] Seiko 62MAS 6217-8001        2   \n",
            "8  11jjld5       [WTS] Serge Model 1, Grey Dial, Bronze Bezel        1   \n",
            "9  11jjlca  [WTS] Timex Weekender and Timex Intelligent Fl...        1   \n",
            "\n",
            "         time_created                                     url  upvote_ratio  \n",
            "0 2023-03-06 01:31:59     https://i.redd.it/dzksy75oc2ma1.jpg           1.0  \n",
            "1 2023-03-06 01:25:18            https://imgur.com/a/d5VAJOK/           1.0  \n",
            "2 2023-03-06 01:20:30     https://i.redd.it/t03gjhyna2ma1.jpg           1.0  \n",
            "3 2023-03-06 01:20:00  https://www.reddit.com/gallery/11jk5gi           1.0  \n",
            "4 2023-03-06 01:19:41     https://i.redd.it/355rmdd5r0ma1.jpg           1.0  \n",
            "5 2023-03-06 01:14:52  https://www.reddit.com/gallery/11jk1ab           1.0  \n",
            "6 2023-03-06 01:08:32     https://i.redd.it/l5c72hnsp0ma1.jpg           1.0  \n",
            "7 2023-03-06 01:08:10            https://imgur.com/a/xzRvva7/           1.0  \n",
            "8 2023-03-06 00:55:43         https://v.redd.it/jt3wu5a862ma1           1.0  \n",
            "9 2023-03-06 00:55:41             https://imgur.com/a/ZZ5hzfN           1.0  \n",
            "Index(['post_id', 'title', 'upvotes', 'time_created', 'url', 'upvote_ratio'], dtype='object')\n"
          ]
        }
      ]
    },
    {
      "cell_type": "code",
      "source": [
        "try:\n",
        "  df.to_csv('df1.csv')\n",
        "  print('Success')\n",
        "except:\n",
        "  print('Failed')"
      ],
      "metadata": {
        "colab": {
          "base_uri": "https://localhost:8080/"
        },
        "id": "JS-xm7tqh7xJ",
        "outputId": "44b3efa8-0730-4761-8307-e8581d0cd4c8"
      },
      "execution_count": 200,
      "outputs": [
        {
          "output_type": "stream",
          "name": "stdout",
          "text": [
            "Success\n"
          ]
        }
      ]
    },
    {
      "cell_type": "code",
      "source": [
        "def create_table(curr):\n",
        "    create_table_command = (\"\"\"CREATE TABLE IF NOT EXISTS watch_exchange (\n",
        "                    post_id VARCHAR(10) PRIMARY KEY,\n",
        "                    title VARCHAR(255),\n",
        "                    upvotes INTEGER NOT NULL,\n",
        "                    time_created DATE NOT NULL DEFAULT CURRENT_DATE,\n",
        "                    url VARCHAR(255),\n",
        "                    upvote_ratio decimal NOT NULL           \n",
        "            )\"\"\")\n",
        "    curr.execute(create_table_command)\n",
        "\n",
        "def insert_into_table(curr, post_id, title, upvotes, time_created, url, upvote_ratio):\n",
        "  insert_into_exchange = (\"\"\"INSERT INTO watch_exchange (post_id, title,  upvotes, time_created, url, upvote_ratio) VALUES (%s,%s,%s,%s,%s,%s);\"\"\")\n",
        "  row_to_insert = (post_id, title,  upvotes, time_created, url, upvote_ratio)\n",
        "  curr.execute(insert_into_exchange, row_to_insert)\n",
        "\n",
        "def update_row(curr,title,post_id,upvotes,time_created,url,upvote_ratio):\n",
        "  query = (\"\"\"UPDATE watch_exchange SET title = %s, upvotes = %s, time_created = %s, url= %s, upvote_ratio = %s where post_id = %s;\"\"\")\n",
        "  vars_to_update = (title, upvotes, time_created, url, upvote_ratio, post_id)\n",
        "  curr.execute(query, vars_to_update)\n",
        "  \n",
        "def check_if_post_exists(curr, post_id):\n",
        "  query = (\"\"\"SELECT post_id FROM watch_exchange where post_id = %s\"\"\")\n",
        "  curr.execute(query, (post_id,))\n",
        "  return curr.fetchone() is not None\n",
        "\n",
        "def truncate_table(curr):\n",
        "    truncate_table = (\"\"\"TRUNCATE TABLE watch_exchange\"\"\")\n",
        "\n",
        "    curr.execute(truncate_table)\n",
        "def append_from_df_to_db(curr,df):\n",
        "    for i, row in df.iterrows():\n",
        "        insert_into_table(curr,row['post_id'], row['title'],  row['upvotes'], row['time_created'], row['url'],row['upvote_ratio'])\n",
        "        \n",
        "def update_db(curr,df):\n",
        "  tmp_df = pd.DataFrame(columns = ['post_id', 'title', 'upvotes', 'time_created', 'url',  'upvote_ratio'])\n",
        "  for i, row in df.iterrows():\n",
        "    if check_if_post_exists(curr, row['post_id']):\n",
        "      update_row(curr,row['post_id'], row['title'],row['upvotes'],row['time_created'],row['url'], row['upvote_ratio'])\n",
        "    else:\n",
        "      tmp_df = tmp_df.append(row)\n",
        "  return tmp_df"
      ],
      "metadata": {
        "id": "Uco7Bqtn5gdw"
      },
      "execution_count": 201,
      "outputs": []
    },
    {
      "cell_type": "code",
      "source": [
        "#database credentials\n",
        "host_name = 'my-db1.cwc1bi2tp4j7.us-east-2.rds.amazonaws.com'\n",
        "dbname = 'initial_db1'\n",
        "port = '5432'\n",
        "username = 'postgres' \n",
        "password = 'Manonthemoon123'\n",
        "conn = None\n",
        "\n",
        "#establish a connection to db\n",
        "conn = connect_to_db(host_name, dbname, port, username, password)\n",
        "curr = conn.cursor()"
      ],
      "metadata": {
        "colab": {
          "base_uri": "https://localhost:8080/"
        },
        "id": "aGvfkMG40FXe",
        "outputId": "390232a6-ec3e-407f-8176-d983be007357"
      },
      "execution_count": 202,
      "outputs": [
        {
          "output_type": "stream",
          "name": "stdout",
          "text": [
            "Connected!\n"
          ]
        }
      ]
    },
    {
      "cell_type": "code",
      "source": [
        "df\n"
      ],
      "metadata": {
        "colab": {
          "base_uri": "https://localhost:8080/",
          "height": 363
        },
        "id": "OsbvP6ImVJIN",
        "outputId": "a0f2424d-e7c1-4637-f6bc-b2874d6e3be6"
      },
      "execution_count": 203,
      "outputs": [
        {
          "output_type": "execute_result",
          "data": {
            "text/plain": [
              "   post_id                                              title  upvotes  \\\n",
              "0  11jkfdi  [WTS] Forstner flat link bracelet (reserved fo...        1   \n",
              "1  11jk9pp  [WTS/WTT] Seiko 7548-7000 Quartz Diver with ra...        1   \n",
              "2  11jk5yl                       [WTS] Rolex Oysterdate 6694!        1   \n",
              "3  11jk5gi  [WTS] STUNNING Rolex Datejust 16233 w/RARE bla...        2   \n",
              "4  11jk572  [WTS] Omega Seamaster 300 Ceramic Case w/titan...        2   \n",
              "5  11jk1ab              [WTS] Wolf Heritage 5 Piece Watch Box        2   \n",
              "6  11jjw4d  [WTS] Omega Seamaster 300 Chrome Dial Ref:210....        3   \n",
              "7  11jjvt7                    [WTS/WTT] Seiko 62MAS 6217-8001        2   \n",
              "8  11jjld5       [WTS] Serge Model 1, Grey Dial, Bronze Bezel        1   \n",
              "9  11jjlca  [WTS] Timex Weekender and Timex Intelligent Fl...        1   \n",
              "\n",
              "         time_created                                     url  upvote_ratio  \n",
              "0 2023-03-06 01:31:59     https://i.redd.it/dzksy75oc2ma1.jpg           1.0  \n",
              "1 2023-03-06 01:25:18            https://imgur.com/a/d5VAJOK/           1.0  \n",
              "2 2023-03-06 01:20:30     https://i.redd.it/t03gjhyna2ma1.jpg           1.0  \n",
              "3 2023-03-06 01:20:00  https://www.reddit.com/gallery/11jk5gi           1.0  \n",
              "4 2023-03-06 01:19:41     https://i.redd.it/355rmdd5r0ma1.jpg           1.0  \n",
              "5 2023-03-06 01:14:52  https://www.reddit.com/gallery/11jk1ab           1.0  \n",
              "6 2023-03-06 01:08:32     https://i.redd.it/l5c72hnsp0ma1.jpg           1.0  \n",
              "7 2023-03-06 01:08:10            https://imgur.com/a/xzRvva7/           1.0  \n",
              "8 2023-03-06 00:55:43         https://v.redd.it/jt3wu5a862ma1           1.0  \n",
              "9 2023-03-06 00:55:41             https://imgur.com/a/ZZ5hzfN           1.0  "
            ],
            "text/html": [
              "\n",
              "  <div id=\"df-8fa838a2-949f-4ed3-8332-0f0e0445bcaf\">\n",
              "    <div class=\"colab-df-container\">\n",
              "      <div>\n",
              "<style scoped>\n",
              "    .dataframe tbody tr th:only-of-type {\n",
              "        vertical-align: middle;\n",
              "    }\n",
              "\n",
              "    .dataframe tbody tr th {\n",
              "        vertical-align: top;\n",
              "    }\n",
              "\n",
              "    .dataframe thead th {\n",
              "        text-align: right;\n",
              "    }\n",
              "</style>\n",
              "<table border=\"1\" class=\"dataframe\">\n",
              "  <thead>\n",
              "    <tr style=\"text-align: right;\">\n",
              "      <th></th>\n",
              "      <th>post_id</th>\n",
              "      <th>title</th>\n",
              "      <th>upvotes</th>\n",
              "      <th>time_created</th>\n",
              "      <th>url</th>\n",
              "      <th>upvote_ratio</th>\n",
              "    </tr>\n",
              "  </thead>\n",
              "  <tbody>\n",
              "    <tr>\n",
              "      <th>0</th>\n",
              "      <td>11jkfdi</td>\n",
              "      <td>[WTS] Forstner flat link bracelet (reserved fo...</td>\n",
              "      <td>1</td>\n",
              "      <td>2023-03-06 01:31:59</td>\n",
              "      <td>https://i.redd.it/dzksy75oc2ma1.jpg</td>\n",
              "      <td>1.0</td>\n",
              "    </tr>\n",
              "    <tr>\n",
              "      <th>1</th>\n",
              "      <td>11jk9pp</td>\n",
              "      <td>[WTS/WTT] Seiko 7548-7000 Quartz Diver with ra...</td>\n",
              "      <td>1</td>\n",
              "      <td>2023-03-06 01:25:18</td>\n",
              "      <td>https://imgur.com/a/d5VAJOK/</td>\n",
              "      <td>1.0</td>\n",
              "    </tr>\n",
              "    <tr>\n",
              "      <th>2</th>\n",
              "      <td>11jk5yl</td>\n",
              "      <td>[WTS] Rolex Oysterdate 6694!</td>\n",
              "      <td>1</td>\n",
              "      <td>2023-03-06 01:20:30</td>\n",
              "      <td>https://i.redd.it/t03gjhyna2ma1.jpg</td>\n",
              "      <td>1.0</td>\n",
              "    </tr>\n",
              "    <tr>\n",
              "      <th>3</th>\n",
              "      <td>11jk5gi</td>\n",
              "      <td>[WTS] STUNNING Rolex Datejust 16233 w/RARE bla...</td>\n",
              "      <td>2</td>\n",
              "      <td>2023-03-06 01:20:00</td>\n",
              "      <td>https://www.reddit.com/gallery/11jk5gi</td>\n",
              "      <td>1.0</td>\n",
              "    </tr>\n",
              "    <tr>\n",
              "      <th>4</th>\n",
              "      <td>11jk572</td>\n",
              "      <td>[WTS] Omega Seamaster 300 Ceramic Case w/titan...</td>\n",
              "      <td>2</td>\n",
              "      <td>2023-03-06 01:19:41</td>\n",
              "      <td>https://i.redd.it/355rmdd5r0ma1.jpg</td>\n",
              "      <td>1.0</td>\n",
              "    </tr>\n",
              "    <tr>\n",
              "      <th>5</th>\n",
              "      <td>11jk1ab</td>\n",
              "      <td>[WTS] Wolf Heritage 5 Piece Watch Box</td>\n",
              "      <td>2</td>\n",
              "      <td>2023-03-06 01:14:52</td>\n",
              "      <td>https://www.reddit.com/gallery/11jk1ab</td>\n",
              "      <td>1.0</td>\n",
              "    </tr>\n",
              "    <tr>\n",
              "      <th>6</th>\n",
              "      <td>11jjw4d</td>\n",
              "      <td>[WTS] Omega Seamaster 300 Chrome Dial Ref:210....</td>\n",
              "      <td>3</td>\n",
              "      <td>2023-03-06 01:08:32</td>\n",
              "      <td>https://i.redd.it/l5c72hnsp0ma1.jpg</td>\n",
              "      <td>1.0</td>\n",
              "    </tr>\n",
              "    <tr>\n",
              "      <th>7</th>\n",
              "      <td>11jjvt7</td>\n",
              "      <td>[WTS/WTT] Seiko 62MAS 6217-8001</td>\n",
              "      <td>2</td>\n",
              "      <td>2023-03-06 01:08:10</td>\n",
              "      <td>https://imgur.com/a/xzRvva7/</td>\n",
              "      <td>1.0</td>\n",
              "    </tr>\n",
              "    <tr>\n",
              "      <th>8</th>\n",
              "      <td>11jjld5</td>\n",
              "      <td>[WTS] Serge Model 1, Grey Dial, Bronze Bezel</td>\n",
              "      <td>1</td>\n",
              "      <td>2023-03-06 00:55:43</td>\n",
              "      <td>https://v.redd.it/jt3wu5a862ma1</td>\n",
              "      <td>1.0</td>\n",
              "    </tr>\n",
              "    <tr>\n",
              "      <th>9</th>\n",
              "      <td>11jjlca</td>\n",
              "      <td>[WTS] Timex Weekender and Timex Intelligent Fl...</td>\n",
              "      <td>1</td>\n",
              "      <td>2023-03-06 00:55:41</td>\n",
              "      <td>https://imgur.com/a/ZZ5hzfN</td>\n",
              "      <td>1.0</td>\n",
              "    </tr>\n",
              "  </tbody>\n",
              "</table>\n",
              "</div>\n",
              "      <button class=\"colab-df-convert\" onclick=\"convertToInteractive('df-8fa838a2-949f-4ed3-8332-0f0e0445bcaf')\"\n",
              "              title=\"Convert this dataframe to an interactive table.\"\n",
              "              style=\"display:none;\">\n",
              "        \n",
              "  <svg xmlns=\"http://www.w3.org/2000/svg\" height=\"24px\"viewBox=\"0 0 24 24\"\n",
              "       width=\"24px\">\n",
              "    <path d=\"M0 0h24v24H0V0z\" fill=\"none\"/>\n",
              "    <path d=\"M18.56 5.44l.94 2.06.94-2.06 2.06-.94-2.06-.94-.94-2.06-.94 2.06-2.06.94zm-11 1L8.5 8.5l.94-2.06 2.06-.94-2.06-.94L8.5 2.5l-.94 2.06-2.06.94zm10 10l.94 2.06.94-2.06 2.06-.94-2.06-.94-.94-2.06-.94 2.06-2.06.94z\"/><path d=\"M17.41 7.96l-1.37-1.37c-.4-.4-.92-.59-1.43-.59-.52 0-1.04.2-1.43.59L10.3 9.45l-7.72 7.72c-.78.78-.78 2.05 0 2.83L4 21.41c.39.39.9.59 1.41.59.51 0 1.02-.2 1.41-.59l7.78-7.78 2.81-2.81c.8-.78.8-2.07 0-2.86zM5.41 20L4 18.59l7.72-7.72 1.47 1.35L5.41 20z\"/>\n",
              "  </svg>\n",
              "      </button>\n",
              "      \n",
              "  <style>\n",
              "    .colab-df-container {\n",
              "      display:flex;\n",
              "      flex-wrap:wrap;\n",
              "      gap: 12px;\n",
              "    }\n",
              "\n",
              "    .colab-df-convert {\n",
              "      background-color: #E8F0FE;\n",
              "      border: none;\n",
              "      border-radius: 50%;\n",
              "      cursor: pointer;\n",
              "      display: none;\n",
              "      fill: #1967D2;\n",
              "      height: 32px;\n",
              "      padding: 0 0 0 0;\n",
              "      width: 32px;\n",
              "    }\n",
              "\n",
              "    .colab-df-convert:hover {\n",
              "      background-color: #E2EBFA;\n",
              "      box-shadow: 0px 1px 2px rgba(60, 64, 67, 0.3), 0px 1px 3px 1px rgba(60, 64, 67, 0.15);\n",
              "      fill: #174EA6;\n",
              "    }\n",
              "\n",
              "    [theme=dark] .colab-df-convert {\n",
              "      background-color: #3B4455;\n",
              "      fill: #D2E3FC;\n",
              "    }\n",
              "\n",
              "    [theme=dark] .colab-df-convert:hover {\n",
              "      background-color: #434B5C;\n",
              "      box-shadow: 0px 1px 3px 1px rgba(0, 0, 0, 0.15);\n",
              "      filter: drop-shadow(0px 1px 2px rgba(0, 0, 0, 0.3));\n",
              "      fill: #FFFFFF;\n",
              "    }\n",
              "  </style>\n",
              "\n",
              "      <script>\n",
              "        const buttonEl =\n",
              "          document.querySelector('#df-8fa838a2-949f-4ed3-8332-0f0e0445bcaf button.colab-df-convert');\n",
              "        buttonEl.style.display =\n",
              "          google.colab.kernel.accessAllowed ? 'block' : 'none';\n",
              "\n",
              "        async function convertToInteractive(key) {\n",
              "          const element = document.querySelector('#df-8fa838a2-949f-4ed3-8332-0f0e0445bcaf');\n",
              "          const dataTable =\n",
              "            await google.colab.kernel.invokeFunction('convertToInteractive',\n",
              "                                                     [key], {});\n",
              "          if (!dataTable) return;\n",
              "\n",
              "          const docLinkHtml = 'Like what you see? Visit the ' +\n",
              "            '<a target=\"_blank\" href=https://colab.research.google.com/notebooks/data_table.ipynb>data table notebook</a>'\n",
              "            + ' to learn more about interactive tables.';\n",
              "          element.innerHTML = '';\n",
              "          dataTable['output_type'] = 'display_data';\n",
              "          await google.colab.output.renderOutput(dataTable, element);\n",
              "          const docLink = document.createElement('div');\n",
              "          docLink.innerHTML = docLinkHtml;\n",
              "          element.appendChild(docLink);\n",
              "        }\n",
              "      </script>\n",
              "    </div>\n",
              "  </div>\n",
              "  "
            ]
          },
          "metadata": {},
          "execution_count": 203
        }
      ]
    },
    {
      "cell_type": "code",
      "source": [
        "create_table(curr)\n",
        "conn.commit()"
      ],
      "metadata": {
        "id": "sGHI-B-T5jkM"
      },
      "execution_count": 204,
      "outputs": []
    },
    {
      "cell_type": "code",
      "source": [
        "new_post_df = update_db(curr,df)\n",
        "conn.commit()"
      ],
      "metadata": {
        "id": "tT40HGsgfkcW"
      },
      "execution_count": 205,
      "outputs": []
    },
    {
      "cell_type": "code",
      "source": [
        "append_from_df_to_db(curr, new_post_df)\n",
        "conn.commit()\n"
      ],
      "metadata": {
        "id": "eKHqNKpdzcpt"
      },
      "execution_count": 206,
      "outputs": []
    },
    {
      "cell_type": "code",
      "source": [],
      "metadata": {
        "id": "olrYBzQS1eDe"
      },
      "execution_count": 206,
      "outputs": []
    },
    {
      "cell_type": "code",
      "source": [
        "curr.execute(\"SELECT * FROM watch_exchange\")\n",
        "print(curr.fetchall())"
      ],
      "metadata": {
        "id": "l1KVIYuKfr8K",
        "colab": {
          "base_uri": "https://localhost:8080/"
        },
        "outputId": "17f2e890-3283-45a9-9615-8773c47a0c51"
      },
      "execution_count": 207,
      "outputs": [
        {
          "output_type": "stream",
          "name": "stdout",
          "text": [
            "[('11ji43e', '[WTS] Blancpain Bathyscaphe Ref:50001110B52A', 1, datetime.date(2023, 3, 5), None, Decimal('1.0')), ('11jhw8w', '[WTS] Mr. Jones Perfectly Useless Afternoon', 1, datetime.date(2023, 3, 5), None, Decimal('1.0')), ('11jhlnh', '[WTS] Frederique Constant Limited Edition Rally Healey Challenge Canada 🍁', 1, datetime.date(2023, 3, 5), None, Decimal('1.0')), ('11jhlh9', '[WTS] G-SHOCK GM-2100-1A', 2, datetime.date(2023, 3, 5), None, Decimal('1.0')), ('11jhh8x', '[WTS] Omega Seamaster 300m Quartz 36mm Polished Bezel Insert 2562.80 - Heavy Patina', 2, datetime.date(2023, 3, 5), None, Decimal('1.0')), ('11jhfnj', '[WTS] Lorier Neptune III - Great Condition, Free shipping, $340.', 1, datetime.date(2023, 3, 5), None, Decimal('1.0')), ('11jhdk4', '[WTS] Zodiac GMT Quartz Cushion Case', 1, datetime.date(2023, 3, 5), None, Decimal('1.0')), ('11jhb96', '[WTS] Straton Tourer 43mm Quartz GMT 1-of-1 Blue/Orange Prototype', 1, datetime.date(2023, 3, 5), None, Decimal('1.0')), ('11jhb4v', '[WTS] Hamilton Ricoh Electric', 1, datetime.date(2023, 3, 5), None, Decimal('1.0')), ('11jh9ta', '[WTS] Omega Seamaster Diver 300M Black Dial Co‑axial 42mm, full kit on bracelet w/OEM rubber, plus extra gray rubber strap (Box, cards, etc) - $3950', 1, datetime.date(2023, 3, 5), None, Decimal('1.0')), ('11jiu1t', '[WTS] Breitling Superocean 42', 1, datetime.date(2023, 3, 6), None, Decimal('1.0')), ('11jitwm', '[WTS] Seiko Ginza SSA445 (BNIB)', 3, datetime.date(2023, 3, 6), None, Decimal('1.0')), ('11jirpv', '[WTS] Hamilton Khaki Field Auto 38mm', 1, datetime.date(2023, 3, 6), None, Decimal('1.0')), ('11jikkn', '[WTS] RARE Omega Speedmaster 175.0032 FULL SET with added exhibition caseback!', 1, datetime.date(2023, 3, 6), None, Decimal('1.0')), ('11jiitw', '[WTS] Omega OEM Navonappa Leather NATO Strap', 1, datetime.date(2023, 3, 6), None, Decimal('1.0')), ('11jig1v', '[WTS] Direnzo mondial DR04, white dial', 1, datetime.date(2023, 3, 6), None, Decimal('1.0')), ('11jidqo', '[WTS] 1995 Tudor Submariner Black Dial Ref 79090 Nice Patina', 5, datetime.date(2023, 3, 6), None, Decimal('1.0')), ('11ji8rz', '[WTS] Mr. Jones \"Sun & Moon\"', 3, datetime.date(2023, 3, 5), None, Decimal('1.0')), ('11ji57j', '[WTS] Longines Spirit 37 - Full Kit w/ bracelet', 2, datetime.date(2023, 3, 5), None, Decimal('1.0')), ('11ji542', '[WTS] Zenith Defy skyline black', 3, datetime.date(2023, 3, 5), None, Decimal('1.0')), ('11jj0d2', '[WTS] Breitling Avenger GMT 42mm MOP dial w/ 3 breitling straps/bracelet', 1, datetime.date(2023, 3, 6), None, Decimal('1.0')), ('11jiyye', '[WTS] Marathon General Purpose Mechanical', 1, datetime.date(2023, 3, 6), None, Decimal('1.0')), ('11jjhxi', '[WTS] 1989 Rolex DateJust 36mm Ref 16233 Champagne Stick Dial', 1, datetime.date(2023, 3, 6), None, Decimal('1.0')), ('11jjd6t', '[WTS] Orient Mako 2 Full Set Reserved', 1, datetime.date(2023, 3, 6), None, Decimal('1.0')), ('11jj7hd', '[WTS] Breitling Chronomat 42 B01 Ice Blue Dial Platinum Bezel', 2, datetime.date(2023, 3, 6), None, Decimal('1.0')), ('11jjld5', '[WTS] Serge Model 1, Grey Dial, Bronze Bezel', 1, datetime.date(2023, 3, 6), None, Decimal('1.0')), ('11jjlca', '[WTS] Timex Weekender and Timex Intelligent Fly-Back Chronograph (sold together) and Casio G-Shock GA2110ET-8A. $50 shipped each.', 1, datetime.date(2023, 3, 6), None, Decimal('1.0')), ('11jkfdi', '[WTS] Forstner flat link bracelet (reserved for phillywatchphan)', 1, datetime.date(2023, 3, 6), 'https://i.redd.it/dzksy75oc2ma1.jpg', Decimal('1.0')), ('11jk9pp', '[WTS/WTT] Seiko 7548-7000 Quartz Diver with rare BOX AND PAPERS from Japan 1979', 1, datetime.date(2023, 3, 6), 'https://imgur.com/a/d5VAJOK/', Decimal('1.0')), ('11jk5yl', '[WTS] Rolex Oysterdate 6694!', 1, datetime.date(2023, 3, 6), 'https://i.redd.it/t03gjhyna2ma1.jpg', Decimal('1.0')), ('11jk5gi', '[WTS] STUNNING Rolex Datejust 16233 w/RARE black tapestry dial!', 2, datetime.date(2023, 3, 6), 'https://www.reddit.com/gallery/11jk5gi', Decimal('1.0')), ('11jk572', '[WTS] Omega Seamaster 300 Ceramic Case w/titanium Ref:210.92.44.20.01.001', 2, datetime.date(2023, 3, 6), 'https://i.redd.it/355rmdd5r0ma1.jpg', Decimal('1.0')), ('11jk1ab', '[WTS] Wolf Heritage 5 Piece Watch Box', 2, datetime.date(2023, 3, 6), 'https://www.reddit.com/gallery/11jk1ab', Decimal('1.0')), ('11jjw4d', '[WTS] Omega Seamaster 300 Chrome Dial Ref:210.30.42.20.06.001', 3, datetime.date(2023, 3, 6), 'https://i.redd.it/l5c72hnsp0ma1.jpg', Decimal('1.0')), ('11jjvt7', '[WTS/WTT] Seiko 62MAS 6217-8001', 2, datetime.date(2023, 3, 6), 'https://imgur.com/a/xzRvva7/', Decimal('1.0'))]\n"
          ]
        }
      ]
    },
    {
      "cell_type": "code",
      "source": [],
      "metadata": {
        "id": "LgL4jpzP3YQq"
      },
      "execution_count": 207,
      "outputs": []
    },
    {
      "cell_type": "code",
      "source": [],
      "metadata": {
        "id": "M5MJ0J2wyV1-"
      },
      "execution_count": 207,
      "outputs": []
    },
    {
      "cell_type": "markdown",
      "source": [],
      "metadata": {
        "id": "-37wypFhfrsO"
      }
    },
    {
      "cell_type": "code",
      "source": [
        "#insert_into_table(curr,row['title'],row['post_id'],row['upvote',row['time_created'],row['author'],row['upvote_ratio'])"
      ],
      "metadata": {
        "id": "UnDOisbo3rWU"
      },
      "execution_count": 208,
      "outputs": []
    },
    {
      "cell_type": "markdown",
      "source": [
        "# New Section"
      ],
      "metadata": {
        "id": "t-XCTyzuymaS"
      }
    }
  ]
}